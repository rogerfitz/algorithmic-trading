{
 "cells": [
  {
   "cell_type": "code",
   "execution_count": 134,
   "metadata": {
    "collapsed": true
   },
   "outputs": [],
   "source": [
    "import pandas as pd\n",
    "import pandas_datareader.data as web\n",
    "import datetime\n",
    "import statsmodels.formula.api as smf\n",
    "import statsmodels.api as sm\n",
    "import statsmodels.tsa.stattools as ts\n",
    "import numpy as np\n",
    "import matplotlib.pyplot as plt\n",
    "%matplotlib inline"
   ]
  },
  {
   "cell_type": "code",
   "execution_count": 280,
   "metadata": {
    "collapsed": false
   },
   "outputs": [
    {
     "data": {
      "text/plain": [
       "<matplotlib.axes._subplots.AxesSubplot at 0x11d68470>"
      ]
     },
     "execution_count": 280,
     "metadata": {},
     "output_type": "execute_result"
    },
    {
     "data": {
      "image/png": "[encoded data removed]",
      "text/plain": [
       "<matplotlib.figure.Figure at 0x117770f0>"
      ]
     },
     "metadata": {},
     "output_type": "display_data"
    }
   ],
   "source": [
    "start=datetime.datetime(2007,7,22)\n",
    "end=datetime.datetime(2012,3,28)\n",
    "y=web.DataReader(\"DEXCAUS\",'fred', start,end)\n",
    "y=y['DEXCAUS']\n",
    "y=y.interpolate()\n",
    "y.plot()"
   ]
  },
  {
   "cell_type": "code",
   "execution_count": 281,
   "metadata": {
    "collapsed": false
   },
   "outputs": [
    {
     "data": {
      "text/plain": [
       "(-1.8511716900269124,\n",
       " 0.35536828691259603,\n",
       " 0L,\n",
       " 1222L,\n",
       " {'1%': -3.4357125938551909,\n",
       "  '10%': -2.5680308008925294,\n",
       "  '5%': -2.8639080782530031},\n",
       " -8119.4896879147927)"
      ]
     },
     "execution_count": 281,
     "metadata": {},
     "output_type": "execute_result"
    }
   ],
   "source": [
    "ts.adfuller(y, maxlag=1,regression='c')"
   ]
  },
  {
   "cell_type": "markdown",
   "metadata": {},
   "source": [
    "Hurst"
   ]
  },
  {
   "cell_type": "code",
   "execution_count": 282,
   "metadata": {
    "collapsed": false
   },
   "outputs": [
    {
     "data": {
      "text/plain": [
       "0.47205967055713893"
      ]
     },
     "execution_count": 282,
     "metadata": {},
     "output_type": "execute_result"
    }
   ],
   "source": [
    "from numpy import cumsum, log, polyfit, sqrt, std, subtract,square,dot\n",
    "from numpy.random import randn\n",
    "\n",
    "def normcdf(X):\n",
    "    (a1,a2,a3,a4,a5) = (0.31938153, -0.356563782, 1.781477937, -1.821255978, 1.330274429)\n",
    "    L = abs(X)\n",
    "    K = 1.0 / (1.0 + 0.2316419 * L)\n",
    "    w = 1.0 - 1.0 / sqrt(2*pi)*exp(-L*L/2.) * (a1*K + a2*K*K + a3*pow(K,3) + a4*pow(K,4) + a5*pow(K,5))\n",
    "    if X<0:\n",
    "        w = 1.0-w\n",
    "    return w\n",
    "\n",
    "def vratio(a, lag = 2, cor = 'hom'):\n",
    "    t = (std((a[lag:]) - (a[1:-lag+1])))**2;\n",
    "    b = (std((a[2:]) - (a[1:-1]) ))**2;\n",
    " \n",
    "    n = float(len(a))\n",
    "    mu  = sum(a[1:n]-a[:-1])/n;\n",
    "    m=(n-lag+1)*(1-lag/n);\n",
    "#   print mu, m, lag\n",
    "    b=sum(square(a[1:n]-a[:n-1]-mu))/(n-1)\n",
    "    t=sum(square(a[lag:n]-a[:n-lag]-lag*mu))/m\n",
    "    vratio = t/(lag*b);\n",
    " \n",
    "    la = float(lag)\n",
    "     \n",
    " \n",
    "    if cor == 'hom':\n",
    "        varvrt=2*(2*la-1)*(la-1)/(3*la*n)\n",
    " \n",
    " \n",
    "    elif cor == 'het':\n",
    "          varvrt=0;\n",
    "          sum2=sum(square(a[1:n]-a[:n-1]-mu)); \n",
    "          for j in range(lag-1):\n",
    "             sum1a=square(a[j+1:n]-a[j:n-1]-mu); \n",
    "             sum1b=square(a[1:n-j]-a[0:n-j-1]-mu)\n",
    "             sum1=dot(sum1a,sum1b); \n",
    "             delta=sum1/(sum2**2);\n",
    "             varvrt=varvrt+((2*(la-j)/la)**2)*delta\n",
    " \n",
    "    zscore = (vratio - 1) / sqrt(float(varvrt))\n",
    "    pval = normcdf(zscore);\n",
    " \n",
    "    return  vratio, zscore, pval\n",
    "\n",
    "def hurst(ts):\n",
    "\t\"\"\"Returns the Hurst Exponent of the time series vector ts\"\"\"\n",
    "\t# Create the range of lag values\n",
    "\tlags = range(1,20)\n",
    "\n",
    "\t# Calculate the array of the variances of the lagged differences\n",
    "\ttau = [sqrt(std(subtract(ts[lag:], ts[:-lag]))) for lag in lags]\n",
    "\n",
    "\t# Use a linear fit to estimate the Hurst Exponent\n",
    "\tpoly = polyfit(log(lags), log(tau), 1)\n",
    "\n",
    "\t# Return the Hurst exponent from the polyfit output\n",
    "\treturn poly[0]*2.0\n",
    "hurst(y)"
   ]
  },
  {
   "cell_type": "code",
   "execution_count": 283,
   "metadata": {
    "collapsed": false
   },
   "outputs": [
    {
     "name": "stderr",
     "output_type": "stream",
     "text": [
      "C:\\Users\\Roger\\Anaconda2\\lib\\site-packages\\ipykernel\\__main__.py:18: VisibleDeprecationWarning: using a non-integer number instead of an integer will result in an error in the future\n",
      "C:\\Users\\Roger\\Anaconda2\\lib\\site-packages\\ipykernel\\__main__.py:21: VisibleDeprecationWarning: using a non-integer number instead of an integer will result in an error in the future\n",
      "C:\\Users\\Roger\\Anaconda2\\lib\\site-packages\\ipykernel\\__main__.py:22: VisibleDeprecationWarning: using a non-integer number instead of an integer will result in an error in the future\n",
      "C:\\Users\\Roger\\Anaconda2\\lib\\site-packages\\ipykernel\\__main__.py:34: VisibleDeprecationWarning: using a non-integer number instead of an integer will result in an error in the future\n",
      "C:\\Users\\Roger\\Anaconda2\\lib\\site-packages\\ipykernel\\__main__.py:36: VisibleDeprecationWarning: using a non-integer number instead of an integer will result in an error in the future\n",
      "C:\\Users\\Roger\\Anaconda2\\lib\\site-packages\\ipykernel\\__main__.py:37: VisibleDeprecationWarning: using a non-integer number instead of an integer will result in an error in the future\n"
     ]
    },
    {
     "data": {
      "text/plain": [
       "(0.90887939415028185, -0.37098253268536285, 0.35532532609940382)"
      ]
     },
     "execution_count": 283,
     "metadata": {},
     "output_type": "execute_result"
    }
   ],
   "source": [
    "vratio(np.log(y.tolist()), cor = 'het', lag = 20)"
   ]
  },
  {
   "cell_type": "markdown",
   "metadata": {},
   "source": [
    "Half-life"
   ]
  },
  {
   "cell_type": "code",
   "execution_count": 284,
   "metadata": {
    "collapsed": false
   },
   "outputs": [
    {
     "data": {
      "text/plain": [
       "array([    nan,  1.045 ,  1.0372, ...,  0.9983,  0.9922,  0.9928])"
      ]
     },
     "execution_count": 284,
     "metadata": {},
     "output_type": "execute_result"
    }
   ],
   "source": [
    "y_lag=np.roll(y,1)\n",
    "y_delta=y-y_lag\n",
    "y_delta[0]=np.NaN\n",
    "y_lag[0]=np.NaN\n",
    "y_lag2 = sm.add_constant(y_lag)\n",
    "y_lag"
   ]
  },
  {
   "cell_type": "code",
   "execution_count": 285,
   "metadata": {
    "collapsed": false
   },
   "outputs": [
    {
     "data": {
      "text/plain": [
       "Intercept    0.003004\n",
       "y_lag[0]     0.003004\n",
       "y_lag[1]    -0.005763\n",
       "dtype: float64"
      ]
     },
     "execution_count": 285,
     "metadata": {},
     "output_type": "execute_result"
    }
   ],
   "source": [
    "results=smf.ols('y_delta~y_lag',{'y_lag':y_lag2,'y_delta':y_delta}).fit()\n",
    "results.params"
   ]
  },
  {
   "cell_type": "code",
   "execution_count": 286,
   "metadata": {
    "collapsed": false
   },
   "outputs": [
    {
     "data": {
      "text/plain": [
       "120.2830502183437"
      ]
     },
     "execution_count": 286,
     "metadata": {},
     "output_type": "execute_result"
    }
   ],
   "source": [
    "halflife=-np.log(2)/results.params[2]\n",
    "halflife"
   ]
  },
  {
   "cell_type": "markdown",
   "metadata": {},
   "source": [
    "First mean reversion strategy  \n",
    "halflife=lookback (or multiple)"
   ]
  },
  {
   "cell_type": "code",
   "execution_count": 287,
   "metadata": {
    "collapsed": true
   },
   "outputs": [],
   "source": [
    "def movingAvg(x,N=20):\n",
    "    return np.insert(np.convolve(x,np.ones(N)/N, mode='valid'),0,[0]*(N-1))\n",
    "def rolling_window(a, window):\n",
    "    a=np.insert(np.array(a),0,[0]*(window-1))\n",
    "    shape = a.shape[:-1] + (a.shape[-1] - window + 1, window)\n",
    "    strides = a.strides + (a.strides[-1],)\n",
    "    arr=np.lib.stride_tricks.as_strided(a, shape=shape, strides=strides)\n",
    "    return arr"
   ]
  },
  {
   "cell_type": "code",
   "execution_count": 288,
   "metadata": {
    "collapsed": false
   },
   "outputs": [
    {
     "name": "stderr",
     "output_type": "stream",
     "text": [
      "C:\\Users\\Roger\\Anaconda2\\lib\\site-packages\\ipykernel\\__main__.py:4: VisibleDeprecationWarning: using a non-integer number instead of an integer will result in an error in the future\n",
      "C:\\Users\\Roger\\Anaconda2\\lib\\site-packages\\ipykernel\\__main__.py:2: VisibleDeprecationWarning: using a non-integer number instead of an integer will result in an error in the future\n",
      "  from ipykernel import kernelapp as app\n"
     ]
    },
    {
     "data": {
      "text/plain": [
       "[<matplotlib.lines.Line2D at 0x123af3c8>]"
      ]
     },
     "execution_count": 288,
     "metadata": {},
     "output_type": "execute_result"
    },
    {
     "data": {
      "image/png": "[encoded data removed]",
      "text/plain": [
       "<matplotlib.figure.Figure at 0x11765e48>"
      ]
     },
     "metadata": {},
     "output_type": "display_data"
    }
   ],
   "source": [
    "lookback=np.round(halflife)\n",
    "windowed=rolling_window(y,lookback)\n",
    "mktVal=np.array(-(y-movingAvg(y,lookback))/np.std(windowed))\n",
    "mktVal[:lookback]=0\n",
    "plt.plot(mktVal)"
   ]
  },
  {
   "cell_type": "code",
   "execution_count": 289,
   "metadata": {
    "collapsed": false
   },
   "outputs": [
    {
     "data": {
      "text/plain": [
       "[<matplotlib.lines.Line2D at 0x123bd748>]"
      ]
     },
     "execution_count": 289,
     "metadata": {},
     "output_type": "execute_result"
    },
    {
     "data": {
      "image/png": "[encoded data removed]",
      "text/plain": [
       "<matplotlib.figure.Figure at 0x120ce5c0>"
      ]
     },
     "metadata": {},
     "output_type": "display_data"
    }
   ],
   "source": [
    "mktLag=np.roll(mktVal,1)\n",
    "mktLag[0]=0\n",
    "pnl=mktLag*(y_delta)/y_lag\n",
    "plt.plot(np.cumsum(pnl))"
   ]
  }
 ],
 "metadata": {
  "kernelspec": {
   "display_name": "Python [Root]",
   "language": "python",
   "name": "Python [Root]"
  },
  "language_info": {
   "codemirror_mode": {
    "name": "ipython",
    "version": 2
   },
   "file_extension": ".py",
   "mimetype": "text/x-python",
   "name": "python",
   "nbconvert_exporter": "python",
   "pygments_lexer": "ipython2",
   "version": "2.7.12"
  }
 },
 "nbformat": 4,
 "nbformat_minor": 0
}
